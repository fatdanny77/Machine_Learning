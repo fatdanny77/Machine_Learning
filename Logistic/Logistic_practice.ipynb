{
 "cells": [
  {
   "cell_type": "code",
   "execution_count": 28,
   "metadata": {},
   "outputs": [],
   "source": [
    "import pandas\n",
    "import sklearn\n",
    "import pydotplus\n",
    "import matplotlib.pyplot as plt\n",
    "from sklearn.model_selection import train_test_split\n",
    "from sklearn.linear_model import LogisticRegression"
   ]
  },
  {
   "cell_type": "code",
   "execution_count": 29,
   "metadata": {},
   "outputs": [
    {
     "data": {
      "text/html": [
       "<div>\n",
       "<style scoped>\n",
       "    .dataframe tbody tr th:only-of-type {\n",
       "        vertical-align: middle;\n",
       "    }\n",
       "\n",
       "    .dataframe tbody tr th {\n",
       "        vertical-align: top;\n",
       "    }\n",
       "\n",
       "    .dataframe thead th {\n",
       "        text-align: right;\n",
       "    }\n",
       "</style>\n",
       "<table border=\"1\" class=\"dataframe\">\n",
       "  <thead>\n",
       "    <tr style=\"text-align: right;\">\n",
       "      <th></th>\n",
       "      <th>c1</th>\n",
       "      <th>c2</th>\n",
       "      <th>u</th>\n",
       "      <th>v</th>\n",
       "      <th>county</th>\n",
       "      <th>age</th>\n",
       "      <th>education</th>\n",
       "      <th>married</th>\n",
       "      <th>children</th>\n",
       "      <th>select</th>\n",
       "      <th>wagefull</th>\n",
       "      <th>wage</th>\n",
       "      <th>lw</th>\n",
       "      <th>work</th>\n",
       "      <th>lwf</th>\n",
       "    </tr>\n",
       "  </thead>\n",
       "  <tbody>\n",
       "    <tr>\n",
       "      <th>0</th>\n",
       "      <td>-0.436205</td>\n",
       "      <td>-0.096918</td>\n",
       "      <td>-0.218103</td>\n",
       "      <td>-0.375727</td>\n",
       "      <td>1</td>\n",
       "      <td>22</td>\n",
       "      <td>10</td>\n",
       "      <td>1</td>\n",
       "      <td>0</td>\n",
       "      <td>16.791273</td>\n",
       "      <td>12.782769</td>\n",
       "      <td>NaN</td>\n",
       "      <td>NaN</td>\n",
       "      <td>0</td>\n",
       "      <td>0.000000</td>\n",
       "    </tr>\n",
       "    <tr>\n",
       "      <th>1</th>\n",
       "      <td>0.352141</td>\n",
       "      <td>0.300476</td>\n",
       "      <td>0.176070</td>\n",
       "      <td>0.461234</td>\n",
       "      <td>2</td>\n",
       "      <td>36</td>\n",
       "      <td>10</td>\n",
       "      <td>1</td>\n",
       "      <td>0</td>\n",
       "      <td>32.434814</td>\n",
       "      <td>20.312845</td>\n",
       "      <td>20.312845</td>\n",
       "      <td>3.011253</td>\n",
       "      <td>1</td>\n",
       "      <td>3.011253</td>\n",
       "    </tr>\n",
       "    <tr>\n",
       "      <th>2</th>\n",
       "      <td>1.077247</td>\n",
       "      <td>-1.595963</td>\n",
       "      <td>0.538623</td>\n",
       "      <td>-0.376244</td>\n",
       "      <td>3</td>\n",
       "      <td>28</td>\n",
       "      <td>10</td>\n",
       "      <td>1</td>\n",
       "      <td>0</td>\n",
       "      <td>19.185072</td>\n",
       "      <td>23.063478</td>\n",
       "      <td>NaN</td>\n",
       "      <td>NaN</td>\n",
       "      <td>0</td>\n",
       "      <td>0.000000</td>\n",
       "    </tr>\n",
       "    <tr>\n",
       "      <th>3</th>\n",
       "      <td>1.021283</td>\n",
       "      <td>-1.710498</td>\n",
       "      <td>0.510642</td>\n",
       "      <td>-0.496999</td>\n",
       "      <td>4</td>\n",
       "      <td>37</td>\n",
       "      <td>10</td>\n",
       "      <td>1</td>\n",
       "      <td>0</td>\n",
       "      <td>21.336010</td>\n",
       "      <td>24.527700</td>\n",
       "      <td>NaN</td>\n",
       "      <td>NaN</td>\n",
       "      <td>0</td>\n",
       "      <td>0.000000</td>\n",
       "    </tr>\n",
       "    <tr>\n",
       "      <th>4</th>\n",
       "      <td>-0.442960</td>\n",
       "      <td>0.308340</td>\n",
       "      <td>-0.221480</td>\n",
       "      <td>-0.092511</td>\n",
       "      <td>5</td>\n",
       "      <td>39</td>\n",
       "      <td>10</td>\n",
       "      <td>1</td>\n",
       "      <td>1</td>\n",
       "      <td>31.989870</td>\n",
       "      <td>16.142241</td>\n",
       "      <td>16.142241</td>\n",
       "      <td>2.781440</td>\n",
       "      <td>1</td>\n",
       "      <td>2.781440</td>\n",
       "    </tr>\n",
       "  </tbody>\n",
       "</table>\n",
       "</div>"
      ],
      "text/plain": [
       "         c1        c2         u         v  county  age  education  married  \\\n",
       "0 -0.436205 -0.096918 -0.218103 -0.375727       1   22         10        1   \n",
       "1  0.352141  0.300476  0.176070  0.461234       2   36         10        1   \n",
       "2  1.077247 -1.595963  0.538623 -0.376244       3   28         10        1   \n",
       "3  1.021283 -1.710498  0.510642 -0.496999       4   37         10        1   \n",
       "4 -0.442960  0.308340 -0.221480 -0.092511       5   39         10        1   \n",
       "\n",
       "   children     select   wagefull       wage        lw  work       lwf  \n",
       "0         0  16.791273  12.782769        NaN       NaN     0  0.000000  \n",
       "1         0  32.434814  20.312845  20.312845  3.011253     1  3.011253  \n",
       "2         0  19.185072  23.063478        NaN       NaN     0  0.000000  \n",
       "3         0  21.336010  24.527700        NaN       NaN     0  0.000000  \n",
       "4         1  31.989870  16.142241  16.142241  2.781440     1  2.781440  "
      ]
     },
     "execution_count": 29,
     "metadata": {},
     "output_type": "execute_result"
    }
   ],
   "source": [
    "df = pandas.read_csv(\"D:/NTU/econometrics/hw4/hw4/Table 15_27.csv\")\n",
    "\n",
    "#print(df)\n",
    "df.head()"
   ]
  },
  {
   "cell_type": "code",
   "execution_count": 40,
   "metadata": {},
   "outputs": [
    {
     "data": {
      "text/html": [
       "<div>\n",
       "<style scoped>\n",
       "    .dataframe tbody tr th:only-of-type {\n",
       "        vertical-align: middle;\n",
       "    }\n",
       "\n",
       "    .dataframe tbody tr th {\n",
       "        vertical-align: top;\n",
       "    }\n",
       "\n",
       "    .dataframe thead th {\n",
       "        text-align: right;\n",
       "    }\n",
       "</style>\n",
       "<table border=\"1\" class=\"dataframe\">\n",
       "  <thead>\n",
       "    <tr style=\"text-align: right;\">\n",
       "      <th></th>\n",
       "      <th>age</th>\n",
       "      <th>education</th>\n",
       "      <th>married</th>\n",
       "      <th>children</th>\n",
       "    </tr>\n",
       "  </thead>\n",
       "  <tbody>\n",
       "    <tr>\n",
       "      <th>674</th>\n",
       "      <td>31</td>\n",
       "      <td>16</td>\n",
       "      <td>0</td>\n",
       "      <td>1</td>\n",
       "    </tr>\n",
       "    <tr>\n",
       "      <th>1699</th>\n",
       "      <td>33</td>\n",
       "      <td>12</td>\n",
       "      <td>0</td>\n",
       "      <td>2</td>\n",
       "    </tr>\n",
       "    <tr>\n",
       "      <th>1282</th>\n",
       "      <td>29</td>\n",
       "      <td>16</td>\n",
       "      <td>1</td>\n",
       "      <td>0</td>\n",
       "    </tr>\n",
       "    <tr>\n",
       "      <th>1315</th>\n",
       "      <td>32</td>\n",
       "      <td>12</td>\n",
       "      <td>1</td>\n",
       "      <td>3</td>\n",
       "    </tr>\n",
       "    <tr>\n",
       "      <th>1210</th>\n",
       "      <td>24</td>\n",
       "      <td>16</td>\n",
       "      <td>0</td>\n",
       "      <td>3</td>\n",
       "    </tr>\n",
       "  </tbody>\n",
       "</table>\n",
       "</div>"
      ],
      "text/plain": [
       "      age  education  married  children\n",
       "674    31         16        0         1\n",
       "1699   33         12        0         2\n",
       "1282   29         16        1         0\n",
       "1315   32         12        1         3\n",
       "1210   24         16        0         3"
      ]
     },
     "execution_count": 40,
     "metadata": {},
     "output_type": "execute_result"
    }
   ],
   "source": [
    "#features = ['age', 'education', 'married', 'children', 'wagefull']\n",
    "\n",
    "features = ['age', 'education', 'married', 'children']\n",
    "X = df[features]\n",
    "y = df['work']\n",
    "X.head()\n",
    "\n",
    "X_train, X_test, y_train, y_test = train_test_split(X,y, test_size = 0.3, random_state=1)\n",
    "X_test.head()"
   ]
  },
  {
   "cell_type": "code",
   "execution_count": 41,
   "metadata": {},
   "outputs": [
    {
     "data": {
      "text/plain": [
       "LogisticRegression(C=1.0, class_weight=None, dual=False, fit_intercept=True,\n",
       "                   intercept_scaling=1, l1_ratio=None, max_iter=100,\n",
       "                   multi_class='auto', n_jobs=None, penalty='l2',\n",
       "                   random_state=None, solver='lbfgs', tol=0.0001, verbose=0,\n",
       "                   warm_start=False)"
      ]
     },
     "execution_count": 41,
     "metadata": {},
     "output_type": "execute_result"
    }
   ],
   "source": [
    "# Create an instance and fit the model \n",
    "lr_model = LogisticRegression()\n",
    "lr_model.fit(X_train, y_train)"
   ]
  },
  {
   "cell_type": "code",
   "execution_count": 50,
   "metadata": {},
   "outputs": [
    {
     "name": "stdout",
     "output_type": "stream",
     "text": [
      "674     1\n",
      "1699    0\n",
      "1282    1\n",
      "1315    1\n",
      "1210    1\n",
      "       ..\n",
      "1382    0\n",
      "1371    1\n",
      "854     0\n",
      "995     1\n",
      "1497    0\n",
      "Name: work, Length: 600, dtype: int64\n",
      "      age  education  married  children  work  y_pred\n",
      "674    31         16        0         1     1       0\n",
      "1699   33         12        0         2     0       1\n",
      "1282   29         16        1         0     1       0\n",
      "1315   32         12        1         3     1       1\n",
      "1210   24         16        0         3     1       1\n",
      "...   ...        ...      ...       ...   ...     ...\n",
      "1382   26         10        0         0     0       0\n",
      "1371   28         16        0         4     1       1\n",
      "854    30         10        1         0     0       0\n",
      "995    41         12        0         2     1       1\n",
      "1497   47         12        1         1     0       1\n",
      "\n",
      "[600 rows x 6 columns]\n"
     ]
    },
    {
     "data": {
      "image/png": "[encoded data removed]",
      "text/plain": [
       "<Figure size 432x288 with 1 Axes>"
      ]
     },
     "metadata": {
      "needs_background": "light"
     },
     "output_type": "display_data"
    }
   ],
   "source": [
    "# Making predictions\n",
    "y_pred = lr_model.predict(X_test)\n",
    "print(y_test)\n",
    "X_t = pandas.DataFrame(X_test)\n",
    "y_t = pandas.DataFrame(y_test)\n",
    "#y_p = pandas.DataFrame(y_pred, columns = [\"y_pred\"])\n",
    "y_p = pandas.DataFrame(y_pred, columns = [\"y_pred\"], index = X_test.index.copy())\n",
    "df_p = pandas.concat([X_t,y_t,y_p], axis = 1)\n",
    "print(df_p)\n",
    "#plt.clf()\n",
    "plt.scatter(df_p[\"work\"], df_p[\"y_pred\"])\n",
    "#plt.scatter(X_test, y_pred, c=\"red\")\n",
    "plt.show()\n",
    "\n",
    "# Accuracy\n",
    "#print(f\"Accuracy = {lr_model.score(X_test.values.reshape(-1, 1), y_test.values.reshape(-1, 1))}\")\n"
   ]
  },
  {
   "cell_type": "code",
   "execution_count": 51,
   "metadata": {},
   "outputs": [
    {
     "name": "stdout",
     "output_type": "stream",
     "text": [
      "Accuracy: 0.74\n"
     ]
    }
   ],
   "source": [
    "from sklearn import metrics\n",
    "print(\"Accuracy:\",metrics.accuracy_score(y_test, y_pred))"
   ]
  },
  {
   "cell_type": "code",
   "execution_count": 47,
   "metadata": {},
   "outputs": [
    {
     "data": {
      "image/png": "[encoded data removed]",
      "text/plain": [
       "<Figure size 1440x1440 with 1 Axes>"
      ]
     },
     "metadata": {
      "needs_background": "light"
     },
     "output_type": "display_data"
    }
   ],
   "source": [
    "#決策樹效果不好\n",
    "import matplotlib as mpl\n",
    "mpl.rcParams['figure.figsize'] = (20, 20)\n",
    "dtree = DecisionTreeClassifier()\n",
    "dtree = dtree.fit(X, y)\n",
    "data = tree.export_graphviz(dtree, out_file=None, feature_names=features)\n",
    "graph = pydotplus.graph_from_dot_data(data)\n",
    "graph.write_png('mydecisiontree.png')\n",
    "\n",
    "img=pltimg.imread('mydecisiontree.png')\n",
    "imgplot = plt.imshow(img)\n",
    "plt.show()\n",
    "#Image(graph.create_png())"
   ]
  }
 ],
 "metadata": {
  "kernelspec": {
   "display_name": "Python 3",
   "language": "python",
   "name": "python3"
  },
  "language_info": {
   "codemirror_mode": {
    "name": "ipython",
    "version": 3
   },
   "file_extension": ".py",
   "mimetype": "text/x-python",
   "name": "python",
   "nbconvert_exporter": "python",
   "pygments_lexer": "ipython3",
   "version": "3.7.2"
  }
 },
 "nbformat": 4,
 "nbformat_minor": 2
}
