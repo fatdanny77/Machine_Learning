{
 "cells": [
  {
   "cell_type": "code",
   "execution_count": 1,
   "metadata": {},
   "outputs": [],
   "source": [
    "import pandas as pd\n",
    "import sklearn\n",
    "import pydotplus\n",
    "import matplotlib.pyplot as plt\n",
    "from sklearn.model_selection import train_test_split\n",
    "from sklearn.linear_model import LinearRegression\n",
    "from sklearn import metrics\n",
    "import numpy as np"
   ]
  },
  {
   "cell_type": "code",
   "execution_count": 2,
   "metadata": {},
   "outputs": [
    {
     "data": {
      "text/html": [
       "<div>\n",
       "<style scoped>\n",
       "    .dataframe tbody tr th:only-of-type {\n",
       "        vertical-align: middle;\n",
       "    }\n",
       "\n",
       "    .dataframe tbody tr th {\n",
       "        vertical-align: top;\n",
       "    }\n",
       "\n",
       "    .dataframe thead th {\n",
       "        text-align: right;\n",
       "    }\n",
       "</style>\n",
       "<table border=\"1\" class=\"dataframe\">\n",
       "  <thead>\n",
       "    <tr style=\"text-align: right;\">\n",
       "      <th></th>\n",
       "      <th>HP</th>\n",
       "      <th>MPG</th>\n",
       "      <th>MPGF</th>\n",
       "      <th>VOL</th>\n",
       "      <th>WT</th>\n",
       "      <th>SP</th>\n",
       "    </tr>\n",
       "  </thead>\n",
       "  <tbody>\n",
       "    <tr>\n",
       "      <th>0</th>\n",
       "      <td>49</td>\n",
       "      <td>65.4</td>\n",
       "      <td>53.700681</td>\n",
       "      <td>89</td>\n",
       "      <td>17.5</td>\n",
       "      <td>96</td>\n",
       "    </tr>\n",
       "    <tr>\n",
       "      <th>1</th>\n",
       "      <td>55</td>\n",
       "      <td>56.0</td>\n",
       "      <td>50.013401</td>\n",
       "      <td>92</td>\n",
       "      <td>20.0</td>\n",
       "      <td>97</td>\n",
       "    </tr>\n",
       "    <tr>\n",
       "      <th>2</th>\n",
       "      <td>55</td>\n",
       "      <td>55.9</td>\n",
       "      <td>50.013401</td>\n",
       "      <td>92</td>\n",
       "      <td>20.0</td>\n",
       "      <td>97</td>\n",
       "    </tr>\n",
       "    <tr>\n",
       "      <th>3</th>\n",
       "      <td>70</td>\n",
       "      <td>49.0</td>\n",
       "      <td>45.696322</td>\n",
       "      <td>92</td>\n",
       "      <td>20.0</td>\n",
       "      <td>105</td>\n",
       "    </tr>\n",
       "    <tr>\n",
       "      <th>4</th>\n",
       "      <td>53</td>\n",
       "      <td>46.5</td>\n",
       "      <td>50.504232</td>\n",
       "      <td>92</td>\n",
       "      <td>20.0</td>\n",
       "      <td>96</td>\n",
       "    </tr>\n",
       "  </tbody>\n",
       "</table>\n",
       "</div>"
      ],
      "text/plain": [
       "   HP   MPG       MPGF  VOL    WT   SP\n",
       "0  49  65.4  53.700681   89  17.5   96\n",
       "1  55  56.0  50.013401   92  20.0   97\n",
       "2  55  55.9  50.013401   92  20.0   97\n",
       "3  70  49.0  45.696322   92  20.0  105\n",
       "4  53  46.5  50.504232   92  20.0   96"
      ]
     },
     "execution_count": 2,
     "metadata": {},
     "output_type": "execute_result"
    }
   ],
   "source": [
    "data = pd.read_csv(\"D:/NTU/econometrics/hw1/Table 11_7.csv\")\n",
    "data.head()"
   ]
  },
  {
   "cell_type": "markdown",
   "metadata": {},
   "source": [
    "### 有加MPGF "
   ]
  },
  {
   "cell_type": "code",
   "execution_count": 28,
   "metadata": {},
   "outputs": [
    {
     "data": {
      "text/plain": [
       "LinearRegression(copy_X=True, fit_intercept=True, n_jobs=None, normalize=False)"
      ]
     },
     "execution_count": 28,
     "metadata": {},
     "output_type": "execute_result"
    }
   ],
   "source": [
    "ln = LinearRegression()\n",
    "features = [\"HP\",\"MPGF\", \"WT\", \"SP\"]\n",
    "X = data[features]\n",
    "y = data[\"MPG\"]\n",
    "ln.fit(X,y)"
   ]
  },
  {
   "cell_type": "code",
   "execution_count": 4,
   "metadata": {},
   "outputs": [
    {
     "data": {
      "text/plain": [
       "81"
      ]
     },
     "execution_count": 4,
     "metadata": {},
     "output_type": "execute_result"
    }
   ],
   "source": [
    "data[\"HP\"].size"
   ]
  },
  {
   "cell_type": "code",
   "execution_count": 29,
   "metadata": {},
   "outputs": [
    {
     "name": "stdout",
     "output_type": "stream",
     "text": [
      "<matplotlib.collections.PathCollection object at 0x000002521E388E48>\n"
     ]
    },
    {
     "data": {
      "image/png": "[encoded data removed]",
      "text/plain": [
       "<Figure size 432x288 with 1 Axes>"
      ]
     },
     "metadata": {
      "needs_background": "light"
     },
     "output_type": "display_data"
    }
   ],
   "source": [
    " #fig, ax = plt.subplots()\n",
    "print(plt.scatter(data[\"HP\"], y))\n",
    "\n",
    "plt.show()\n",
    " #fig.suptitle('A Simple Scatter Plot')\n",
    " #plt.show()"
   ]
  },
  {
   "cell_type": "code",
   "execution_count": 6,
   "metadata": {},
   "outputs": [
    {
     "data": {
      "image/png": "[encoded data removed]",
      "text/plain": [
       "<Figure size 432x288 with 4 Axes>"
      ]
     },
     "metadata": {
      "needs_background": "light"
     },
     "output_type": "display_data"
    }
   ],
   "source": [
    "for i in range(1,len(features)+1):\n",
    "    plt.subplot(2,2,i)\n",
    "    plt.scatter(data[features[i-1]],y)"
   ]
  },
  {
   "cell_type": "code",
   "execution_count": 30,
   "metadata": {
    "scrolled": true
   },
   "outputs": [
    {
     "data": {
      "text/html": [
       "<div>\n",
       "<style scoped>\n",
       "    .dataframe tbody tr th:only-of-type {\n",
       "        vertical-align: middle;\n",
       "    }\n",
       "\n",
       "    .dataframe tbody tr th {\n",
       "        vertical-align: top;\n",
       "    }\n",
       "\n",
       "    .dataframe thead th {\n",
       "        text-align: right;\n",
       "    }\n",
       "</style>\n",
       "<table border=\"1\" class=\"dataframe\">\n",
       "  <thead>\n",
       "    <tr style=\"text-align: right;\">\n",
       "      <th></th>\n",
       "      <th>HP</th>\n",
       "      <th>MPGF</th>\n",
       "      <th>WT</th>\n",
       "      <th>SP</th>\n",
       "    </tr>\n",
       "  </thead>\n",
       "  <tbody>\n",
       "    <tr>\n",
       "      <th>47</th>\n",
       "      <td>98</td>\n",
       "      <td>35.052330</td>\n",
       "      <td>30.0</td>\n",
       "      <td>107</td>\n",
       "    </tr>\n",
       "    <tr>\n",
       "      <th>79</th>\n",
       "      <td>295</td>\n",
       "      <td>19.833733</td>\n",
       "      <td>45.0</td>\n",
       "      <td>157</td>\n",
       "    </tr>\n",
       "    <tr>\n",
       "      <th>30</th>\n",
       "      <td>84</td>\n",
       "      <td>39.431235</td>\n",
       "      <td>27.5</td>\n",
       "      <td>103</td>\n",
       "    </tr>\n",
       "    <tr>\n",
       "      <th>10</th>\n",
       "      <td>73</td>\n",
       "      <td>44.652834</td>\n",
       "      <td>22.5</td>\n",
       "      <td>103</td>\n",
       "    </tr>\n",
       "    <tr>\n",
       "      <th>55</th>\n",
       "      <td>130</td>\n",
       "      <td>27.856252</td>\n",
       "      <td>35.0</td>\n",
       "      <td>115</td>\n",
       "    </tr>\n",
       "  </tbody>\n",
       "</table>\n",
       "</div>"
      ],
      "text/plain": [
       "     HP       MPGF    WT   SP\n",
       "47   98  35.052330  30.0  107\n",
       "79  295  19.833733  45.0  157\n",
       "30   84  39.431235  27.5  103\n",
       "10   73  44.652834  22.5  103\n",
       "55  130  27.856252  35.0  115"
      ]
     },
     "execution_count": 30,
     "metadata": {},
     "output_type": "execute_result"
    }
   ],
   "source": [
    "X_train, X_test, y_train, y_test = train_test_split(X, y, test_size = 0.3)\n",
    "X_train.head()"
   ]
  },
  {
   "cell_type": "code",
   "execution_count": 31,
   "metadata": {},
   "outputs": [
    {
     "name": "stdout",
     "output_type": "stream",
     "text": [
      "50014432561.84148\n",
      "[ 1.02797093e+08 -2.63289732e+08 -5.01112289e+08 -3.34824865e+08]\n"
     ]
    },
    {
     "data": {
      "text/plain": [
       "0.9063457529257678"
      ]
     },
     "execution_count": 31,
     "metadata": {},
     "output_type": "execute_result"
    }
   ],
   "source": [
    "ln.fit(X_train, y_train)\n",
    "print(ln.intercept_)\n",
    "print(ln.coef_)\n",
    "\n",
    "# print the R-squared value for the model\n",
    "ln.score(X_train, y_train)"
   ]
  },
  {
   "cell_type": "code",
   "execution_count": 32,
   "metadata": {},
   "outputs": [
    {
     "data": {
      "text/html": [
       "<div>\n",
       "<style scoped>\n",
       "    .dataframe tbody tr th:only-of-type {\n",
       "        vertical-align: middle;\n",
       "    }\n",
       "\n",
       "    .dataframe tbody tr th {\n",
       "        vertical-align: top;\n",
       "    }\n",
       "\n",
       "    .dataframe thead th {\n",
       "        text-align: right;\n",
       "    }\n",
       "</style>\n",
       "<table border=\"1\" class=\"dataframe\">\n",
       "  <thead>\n",
       "    <tr style=\"text-align: right;\">\n",
       "      <th></th>\n",
       "      <th>y_predict</th>\n",
       "    </tr>\n",
       "  </thead>\n",
       "  <tbody>\n",
       "    <tr>\n",
       "      <th>0</th>\n",
       "      <td>49.345543</td>\n",
       "    </tr>\n",
       "    <tr>\n",
       "      <th>73</th>\n",
       "      <td>19.159050</td>\n",
       "    </tr>\n",
       "    <tr>\n",
       "      <th>75</th>\n",
       "      <td>19.322014</td>\n",
       "    </tr>\n",
       "    <tr>\n",
       "      <th>6</th>\n",
       "      <td>47.194855</td>\n",
       "    </tr>\n",
       "    <tr>\n",
       "      <th>71</th>\n",
       "      <td>24.864548</td>\n",
       "    </tr>\n",
       "  </tbody>\n",
       "</table>\n",
       "</div>"
      ],
      "text/plain": [
       "    y_predict\n",
       "0   49.345543\n",
       "73  19.159050\n",
       "75  19.322014\n",
       "6   47.194855\n",
       "71  24.864548"
      ]
     },
     "execution_count": 32,
     "metadata": {},
     "output_type": "execute_result"
    }
   ],
   "source": [
    "y_pred = ln.predict(X_test)\n",
    "y_pred_df = pd.DataFrame(y_pred, columns = [\"y_predict\"], index =  X_test.index.copy())\n",
    "y_pred_df.head()"
   ]
  },
  {
   "cell_type": "code",
   "execution_count": 33,
   "metadata": {},
   "outputs": [
    {
     "data": {
      "text/html": [
       "<div>\n",
       "<style scoped>\n",
       "    .dataframe tbody tr th:only-of-type {\n",
       "        vertical-align: middle;\n",
       "    }\n",
       "\n",
       "    .dataframe tbody tr th {\n",
       "        vertical-align: top;\n",
       "    }\n",
       "\n",
       "    .dataframe thead th {\n",
       "        text-align: right;\n",
       "    }\n",
       "</style>\n",
       "<table border=\"1\" class=\"dataframe\">\n",
       "  <thead>\n",
       "    <tr style=\"text-align: right;\">\n",
       "      <th></th>\n",
       "      <th>HP</th>\n",
       "      <th>MPGF</th>\n",
       "      <th>WT</th>\n",
       "      <th>SP</th>\n",
       "      <th>MPG</th>\n",
       "      <th>y_predict</th>\n",
       "    </tr>\n",
       "  </thead>\n",
       "  <tbody>\n",
       "    <tr>\n",
       "      <th>0</th>\n",
       "      <td>49</td>\n",
       "      <td>53.700681</td>\n",
       "      <td>17.5</td>\n",
       "      <td>96</td>\n",
       "      <td>65.4</td>\n",
       "      <td>49.345543</td>\n",
       "    </tr>\n",
       "    <tr>\n",
       "      <th>73</th>\n",
       "      <td>140</td>\n",
       "      <td>19.086341</td>\n",
       "      <td>45.0</td>\n",
       "      <td>110</td>\n",
       "      <td>22.9</td>\n",
       "      <td>19.159050</td>\n",
       "    </tr>\n",
       "    <tr>\n",
       "      <th>75</th>\n",
       "      <td>175</td>\n",
       "      <td>18.762837</td>\n",
       "      <td>45.0</td>\n",
       "      <td>121</td>\n",
       "      <td>19.5</td>\n",
       "      <td>19.322014</td>\n",
       "    </tr>\n",
       "    <tr>\n",
       "      <th>6</th>\n",
       "      <td>55</td>\n",
       "      <td>50.013401</td>\n",
       "      <td>20.0</td>\n",
       "      <td>97</td>\n",
       "      <td>45.4</td>\n",
       "      <td>47.194855</td>\n",
       "    </tr>\n",
       "    <tr>\n",
       "      <th>71</th>\n",
       "      <td>162</td>\n",
       "      <td>23.203569</td>\n",
       "      <td>40.0</td>\n",
       "      <td>121</td>\n",
       "      <td>23.4</td>\n",
       "      <td>24.864548</td>\n",
       "    </tr>\n",
       "  </tbody>\n",
       "</table>\n",
       "</div>"
      ],
      "text/plain": [
       "     HP       MPGF    WT   SP   MPG  y_predict\n",
       "0    49  53.700681  17.5   96  65.4  49.345543\n",
       "73  140  19.086341  45.0  110  22.9  19.159050\n",
       "75  175  18.762837  45.0  121  19.5  19.322014\n",
       "6    55  50.013401  20.0   97  45.4  47.194855\n",
       "71  162  23.203569  40.0  121  23.4  24.864548"
      ]
     },
     "execution_count": 33,
     "metadata": {},
     "output_type": "execute_result"
    }
   ],
   "source": [
    "X_test_df = pd.DataFrame(X_test)\n",
    "y_test_df = pd.DataFrame(y_test)\n",
    "df_test_pred = pd.concat([X_test_df, y_test_df, y_pred_df], axis = 1)\n",
    "df_test_pred.head()"
   ]
  },
  {
   "cell_type": "code",
   "execution_count": 34,
   "metadata": {},
   "outputs": [
    {
     "name": "stdout",
     "output_type": "stream",
     "text": [
      "5.712016430998895\n"
     ]
    }
   ],
   "source": [
    "print(np.sqrt(metrics.mean_squared_error(y_test, y_pred)))"
   ]
  },
  {
   "cell_type": "markdown",
   "metadata": {},
   "source": [
    "###  沒有加MPGF"
   ]
  },
  {
   "cell_type": "code",
   "execution_count": 38,
   "metadata": {},
   "outputs": [
    {
     "name": "stdout",
     "output_type": "stream",
     "text": [
      "     HP    WT   SP\n",
      "47   98  30.0  107\n",
      "79  295  45.0  157\n",
      "30   84  27.5  103\n",
      "10   73  22.5  103\n",
      "55  130  35.0  115\n",
      "123.51783582355317\n",
      "[ 0.1759789  -1.35149984 -0.61589207]\n",
      "0.8977276817834727\n",
      "5.567581526129869\n"
     ]
    }
   ],
   "source": [
    "ln = LinearRegression()\n",
    "X_train2 = X_train[[\"HP\", \"WT\", \"SP\"]]\n",
    "X_test2 = X_test[[\"HP\", \"WT\", \"SP\"]]\n",
    "print(X_train2.head())\n",
    "ln.fit(X_train2, y_train)\n",
    "print(ln.intercept_)\n",
    "print(ln.coef_)\n",
    "\n",
    "# print the R-squared value for the model\n",
    "print(ln.score(X_train2, y_train))\n",
    "\n",
    "y_pred2 = ln.predict(X_test2)\n",
    "print(np.sqrt(metrics.mean_squared_error(y_test, y_pred2)))\n",
    "#smaller than 有MPGF的"
   ]
  },
  {
   "cell_type": "code",
   "execution_count": 39,
   "metadata": {},
   "outputs": [
    {
     "data": {
      "text/html": [
       "<table class=\"simpletable\">\n",
       "<caption>OLS Regression Results</caption>\n",
       "<tr>\n",
       "  <th>Dep. Variable:</th>           <td>MPG</td>       <th>  R-squared:         </th> <td>   0.884</td>\n",
       "</tr>\n",
       "<tr>\n",
       "  <th>Model:</th>                   <td>OLS</td>       <th>  Adj. R-squared:    </th> <td>   0.878</td>\n",
       "</tr>\n",
       "<tr>\n",
       "  <th>Method:</th>             <td>Least Squares</td>  <th>  F-statistic:       </th> <td>   144.7</td>\n",
       "</tr>\n",
       "<tr>\n",
       "  <th>Date:</th>             <td>Sat, 28 Mar 2020</td> <th>  Prob (F-statistic):</th> <td>1.00e-34</td>\n",
       "</tr>\n",
       "<tr>\n",
       "  <th>Time:</th>                 <td>21:36:58</td>     <th>  Log-Likelihood:    </th> <td> -214.17</td>\n",
       "</tr>\n",
       "<tr>\n",
       "  <th>No. Observations:</th>      <td>    81</td>      <th>  AIC:               </th> <td>   438.3</td>\n",
       "</tr>\n",
       "<tr>\n",
       "  <th>Df Residuals:</th>          <td>    76</td>      <th>  BIC:               </th> <td>   450.3</td>\n",
       "</tr>\n",
       "<tr>\n",
       "  <th>Df Model:</th>              <td>     4</td>      <th>                     </th>     <td> </td>   \n",
       "</tr>\n",
       "<tr>\n",
       "  <th>Covariance Type:</th>      <td>nonrobust</td>    <th>                     </th>     <td> </td>   \n",
       "</tr>\n",
       "</table>\n",
       "<table class=\"simpletable\">\n",
       "<tr>\n",
       "      <td></td>         <th>coef</th>     <th>std err</th>      <th>t</th>      <th>P>|t|</th>  <th>[0.025</th>    <th>0.975]</th>  \n",
       "</tr>\n",
       "<tr>\n",
       "  <th>Intercept</th> <td> 2.149e+10</td> <td> 2.59e+10</td> <td>    0.830</td> <td> 0.409</td> <td>-3.01e+10</td> <td> 7.31e+10</td>\n",
       "</tr>\n",
       "<tr>\n",
       "  <th>MPGF</th>      <td>-1.131e+08</td> <td> 1.36e+08</td> <td>   -0.830</td> <td> 0.409</td> <td>-3.85e+08</td> <td> 1.58e+08</td>\n",
       "</tr>\n",
       "<tr>\n",
       "  <th>HP</th>        <td> 4.417e+07</td> <td> 5.32e+07</td> <td>    0.830</td> <td> 0.409</td> <td>-6.18e+07</td> <td>  1.5e+08</td>\n",
       "</tr>\n",
       "<tr>\n",
       "  <th>WT</th>        <td>-2.153e+08</td> <td> 2.59e+08</td> <td>   -0.830</td> <td> 0.409</td> <td>-7.32e+08</td> <td> 3.01e+08</td>\n",
       "</tr>\n",
       "<tr>\n",
       "  <th>SP</th>        <td>-1.439e+08</td> <td> 1.73e+08</td> <td>   -0.830</td> <td> 0.409</td> <td>-4.89e+08</td> <td> 2.01e+08</td>\n",
       "</tr>\n",
       "</table>\n",
       "<table class=\"simpletable\">\n",
       "<tr>\n",
       "  <th>Omnibus:</th>       <td>21.745</td> <th>  Durbin-Watson:     </th> <td>   1.078</td>\n",
       "</tr>\n",
       "<tr>\n",
       "  <th>Prob(Omnibus):</th> <td> 0.000</td> <th>  Jarque-Bera (JB):  </th> <td>  33.652</td>\n",
       "</tr>\n",
       "<tr>\n",
       "  <th>Skew:</th>          <td> 1.092</td> <th>  Prob(JB):          </th> <td>4.93e-08</td>\n",
       "</tr>\n",
       "<tr>\n",
       "  <th>Kurtosis:</th>      <td> 5.281</td> <th>  Cond. No.          </th> <td>1.17e+13</td>\n",
       "</tr>\n",
       "</table><br/><br/>Warnings:<br/>[1] Standard Errors assume that the covariance matrix of the errors is correctly specified.<br/>[2] The smallest eigenvalue is 1.84e-20. This might indicate that there are<br/>strong multicollinearity problems or that the design matrix is singular."
      ],
      "text/plain": [
       "<class 'statsmodels.iolib.summary.Summary'>\n",
       "\"\"\"\n",
       "                            OLS Regression Results                            \n",
       "==============================================================================\n",
       "Dep. Variable:                    MPG   R-squared:                       0.884\n",
       "Model:                            OLS   Adj. R-squared:                  0.878\n",
       "Method:                 Least Squares   F-statistic:                     144.7\n",
       "Date:                Sat, 28 Mar 2020   Prob (F-statistic):           1.00e-34\n",
       "Time:                        21:36:58   Log-Likelihood:                -214.17\n",
       "No. Observations:                  81   AIC:                             438.3\n",
       "Df Residuals:                      76   BIC:                             450.3\n",
       "Df Model:                           4                                         \n",
       "Covariance Type:            nonrobust                                         \n",
       "==============================================================================\n",
       "                 coef    std err          t      P>|t|      [0.025      0.975]\n",
       "------------------------------------------------------------------------------\n",
       "Intercept   2.149e+10   2.59e+10      0.830      0.409   -3.01e+10    7.31e+10\n",
       "MPGF       -1.131e+08   1.36e+08     -0.830      0.409   -3.85e+08    1.58e+08\n",
       "HP          4.417e+07   5.32e+07      0.830      0.409   -6.18e+07     1.5e+08\n",
       "WT         -2.153e+08   2.59e+08     -0.830      0.409   -7.32e+08    3.01e+08\n",
       "SP         -1.439e+08   1.73e+08     -0.830      0.409   -4.89e+08    2.01e+08\n",
       "==============================================================================\n",
       "Omnibus:                       21.745   Durbin-Watson:                   1.078\n",
       "Prob(Omnibus):                  0.000   Jarque-Bera (JB):               33.652\n",
       "Skew:                           1.092   Prob(JB):                     4.93e-08\n",
       "Kurtosis:                       5.281   Cond. No.                     1.17e+13\n",
       "==============================================================================\n",
       "\n",
       "Warnings:\n",
       "[1] Standard Errors assume that the covariance matrix of the errors is correctly specified.\n",
       "[2] The smallest eigenvalue is 1.84e-20. This might indicate that there are\n",
       "strong multicollinearity problems or that the design matrix is singular.\n",
       "\"\"\""
      ]
     },
     "execution_count": 39,
     "metadata": {},
     "output_type": "execute_result"
    }
   ],
   "source": [
    "#很酷的線性模型套件\n",
    "import statsmodels.formula.api as smf\n",
    "lm1 = smf.ols(formula=\"MPG ~ MPGF + HP + WT + SP\", data=data).fit()\n",
    "lm1.summary()"
   ]
  },
  {
   "cell_type": "code",
   "execution_count": 40,
   "metadata": {},
   "outputs": [
    {
     "data": {
      "text/html": [
       "<table class=\"simpletable\">\n",
       "<caption>OLS Regression Results</caption>\n",
       "<tr>\n",
       "  <th>Dep. Variable:</th>           <td>MPG</td>       <th>  R-squared:         </th> <td>   0.883</td>\n",
       "</tr>\n",
       "<tr>\n",
       "  <th>Model:</th>                   <td>OLS</td>       <th>  Adj. R-squared:    </th> <td>   0.878</td>\n",
       "</tr>\n",
       "<tr>\n",
       "  <th>Method:</th>             <td>Least Squares</td>  <th>  F-statistic:       </th> <td>   193.5</td>\n",
       "</tr>\n",
       "<tr>\n",
       "  <th>Date:</th>             <td>Sat, 28 Mar 2020</td> <th>  Prob (F-statistic):</th> <td>9.28e-36</td>\n",
       "</tr>\n",
       "<tr>\n",
       "  <th>Time:</th>                 <td>21:37:03</td>     <th>  Log-Likelihood:    </th> <td> -214.54</td>\n",
       "</tr>\n",
       "<tr>\n",
       "  <th>No. Observations:</th>      <td>    81</td>      <th>  AIC:               </th> <td>   437.1</td>\n",
       "</tr>\n",
       "<tr>\n",
       "  <th>Df Residuals:</th>          <td>    77</td>      <th>  BIC:               </th> <td>   446.7</td>\n",
       "</tr>\n",
       "<tr>\n",
       "  <th>Df Model:</th>              <td>     3</td>      <th>                     </th>     <td> </td>   \n",
       "</tr>\n",
       "<tr>\n",
       "  <th>Covariance Type:</th>      <td>nonrobust</td>    <th>                     </th>     <td> </td>   \n",
       "</tr>\n",
       "</table>\n",
       "<table class=\"simpletable\">\n",
       "<tr>\n",
       "      <td></td>         <th>coef</th>     <th>std err</th>      <th>t</th>      <th>P>|t|</th>  <th>[0.025</th>    <th>0.975]</th>  \n",
       "</tr>\n",
       "<tr>\n",
       "  <th>Intercept</th> <td>  189.9597</td> <td>   22.529</td> <td>    8.432</td> <td> 0.000</td> <td>  145.099</td> <td>  234.820</td>\n",
       "</tr>\n",
       "<tr>\n",
       "  <th>HP</th>        <td>    0.3904</td> <td>    0.076</td> <td>    5.121</td> <td> 0.000</td> <td>    0.239</td> <td>    0.542</td>\n",
       "</tr>\n",
       "<tr>\n",
       "  <th>WT</th>        <td>   -1.9033</td> <td>    0.186</td> <td>  -10.259</td> <td> 0.000</td> <td>   -2.273</td> <td>   -1.534</td>\n",
       "</tr>\n",
       "<tr>\n",
       "  <th>SP</th>        <td>   -1.2717</td> <td>    0.233</td> <td>   -5.455</td> <td> 0.000</td> <td>   -1.736</td> <td>   -0.808</td>\n",
       "</tr>\n",
       "</table>\n",
       "<table class=\"simpletable\">\n",
       "<tr>\n",
       "  <th>Omnibus:</th>       <td>20.525</td> <th>  Durbin-Watson:     </th> <td>   1.024</td>\n",
       "</tr>\n",
       "<tr>\n",
       "  <th>Prob(Omnibus):</th> <td> 0.000</td> <th>  Jarque-Bera (JB):  </th> <td>  29.909</td>\n",
       "</tr>\n",
       "<tr>\n",
       "  <th>Skew:</th>          <td> 1.068</td> <th>  Prob(JB):          </th> <td>3.20e-07</td>\n",
       "</tr>\n",
       "<tr>\n",
       "  <th>Kurtosis:</th>      <td> 5.074</td> <th>  Cond. No.          </th> <td>1.00e+04</td>\n",
       "</tr>\n",
       "</table><br/><br/>Warnings:<br/>[1] Standard Errors assume that the covariance matrix of the errors is correctly specified.<br/>[2] The condition number is large,  1e+04. This might indicate that there are<br/>strong multicollinearity or other numerical problems."
      ],
      "text/plain": [
       "<class 'statsmodels.iolib.summary.Summary'>\n",
       "\"\"\"\n",
       "                            OLS Regression Results                            \n",
       "==============================================================================\n",
       "Dep. Variable:                    MPG   R-squared:                       0.883\n",
       "Model:                            OLS   Adj. R-squared:                  0.878\n",
       "Method:                 Least Squares   F-statistic:                     193.5\n",
       "Date:                Sat, 28 Mar 2020   Prob (F-statistic):           9.28e-36\n",
       "Time:                        21:37:03   Log-Likelihood:                -214.54\n",
       "No. Observations:                  81   AIC:                             437.1\n",
       "Df Residuals:                      77   BIC:                             446.7\n",
       "Df Model:                           3                                         \n",
       "Covariance Type:            nonrobust                                         \n",
       "==============================================================================\n",
       "                 coef    std err          t      P>|t|      [0.025      0.975]\n",
       "------------------------------------------------------------------------------\n",
       "Intercept    189.9597     22.529      8.432      0.000     145.099     234.820\n",
       "HP             0.3904      0.076      5.121      0.000       0.239       0.542\n",
       "WT            -1.9033      0.186    -10.259      0.000      -2.273      -1.534\n",
       "SP            -1.2717      0.233     -5.455      0.000      -1.736      -0.808\n",
       "==============================================================================\n",
       "Omnibus:                       20.525   Durbin-Watson:                   1.024\n",
       "Prob(Omnibus):                  0.000   Jarque-Bera (JB):               29.909\n",
       "Skew:                           1.068   Prob(JB):                     3.20e-07\n",
       "Kurtosis:                       5.074   Cond. No.                     1.00e+04\n",
       "==============================================================================\n",
       "\n",
       "Warnings:\n",
       "[1] Standard Errors assume that the covariance matrix of the errors is correctly specified.\n",
       "[2] The condition number is large,  1e+04. This might indicate that there are\n",
       "strong multicollinearity or other numerical problems.\n",
       "\"\"\""
      ]
     },
     "execution_count": 40,
     "metadata": {},
     "output_type": "execute_result"
    }
   ],
   "source": [
    "lm2 = smf.ols(formula=\"MPG ~ HP + WT + SP\", data=data).fit()\n",
    "lm2.summary()"
   ]
  },
  {
   "cell_type": "code",
   "execution_count": 49,
   "metadata": {},
   "outputs": [
    {
     "data": {
      "text/html": [
       "<div>\n",
       "<style scoped>\n",
       "    .dataframe tbody tr th:only-of-type {\n",
       "        vertical-align: middle;\n",
       "    }\n",
       "\n",
       "    .dataframe tbody tr th {\n",
       "        vertical-align: top;\n",
       "    }\n",
       "\n",
       "    .dataframe thead th {\n",
       "        text-align: right;\n",
       "    }\n",
       "</style>\n",
       "<table border=\"1\" class=\"dataframe\">\n",
       "  <thead>\n",
       "    <tr style=\"text-align: right;\">\n",
       "      <th></th>\n",
       "      <th>HP</th>\n",
       "      <th>MPG</th>\n",
       "      <th>MPGF</th>\n",
       "      <th>VOL</th>\n",
       "      <th>WT</th>\n",
       "      <th>SP</th>\n",
       "    </tr>\n",
       "  </thead>\n",
       "  <tbody>\n",
       "    <tr>\n",
       "      <th>HP</th>\n",
       "      <td>1.000000</td>\n",
       "      <td>-0.794450</td>\n",
       "      <td>-0.845512</td>\n",
       "      <td>0.077459</td>\n",
       "      <td>0.831815</td>\n",
       "      <td>0.966829</td>\n",
       "    </tr>\n",
       "    <tr>\n",
       "      <th>MPG</th>\n",
       "      <td>-0.794450</td>\n",
       "      <td>1.000000</td>\n",
       "      <td>0.939609</td>\n",
       "      <td>-0.368312</td>\n",
       "      <td>-0.913029</td>\n",
       "      <td>-0.690794</td>\n",
       "    </tr>\n",
       "    <tr>\n",
       "      <th>MPGF</th>\n",
       "      <td>-0.845512</td>\n",
       "      <td>0.939609</td>\n",
       "      <td>1.000000</td>\n",
       "      <td>-0.373652</td>\n",
       "      <td>-0.971712</td>\n",
       "      <td>-0.735193</td>\n",
       "    </tr>\n",
       "    <tr>\n",
       "      <th>VOL</th>\n",
       "      <td>0.077459</td>\n",
       "      <td>-0.368312</td>\n",
       "      <td>-0.373652</td>\n",
       "      <td>1.000000</td>\n",
       "      <td>0.387594</td>\n",
       "      <td>-0.042646</td>\n",
       "    </tr>\n",
       "    <tr>\n",
       "      <th>WT</th>\n",
       "      <td>0.831815</td>\n",
       "      <td>-0.913029</td>\n",
       "      <td>-0.971712</td>\n",
       "      <td>0.387594</td>\n",
       "      <td>1.000000</td>\n",
       "      <td>0.678818</td>\n",
       "    </tr>\n",
       "    <tr>\n",
       "      <th>SP</th>\n",
       "      <td>0.966829</td>\n",
       "      <td>-0.690794</td>\n",
       "      <td>-0.735193</td>\n",
       "      <td>-0.042646</td>\n",
       "      <td>0.678818</td>\n",
       "      <td>1.000000</td>\n",
       "    </tr>\n",
       "  </tbody>\n",
       "</table>\n",
       "</div>"
      ],
      "text/plain": [
       "            HP       MPG      MPGF       VOL        WT        SP\n",
       "HP    1.000000 -0.794450 -0.845512  0.077459  0.831815  0.966829\n",
       "MPG  -0.794450  1.000000  0.939609 -0.368312 -0.913029 -0.690794\n",
       "MPGF -0.845512  0.939609  1.000000 -0.373652 -0.971712 -0.735193\n",
       "VOL   0.077459 -0.368312 -0.373652  1.000000  0.387594 -0.042646\n",
       "WT    0.831815 -0.913029 -0.971712  0.387594  1.000000  0.678818\n",
       "SP    0.966829 -0.690794 -0.735193 -0.042646  0.678818  1.000000"
      ]
     },
     "execution_count": 49,
     "metadata": {},
     "output_type": "execute_result"
    }
   ],
   "source": [
    "data.corr(method = \"pearson\")\n"
   ]
  },
  {
   "cell_type": "code",
   "execution_count": null,
   "metadata": {},
   "outputs": [],
   "source": []
  }
 ],
 "metadata": {
  "kernelspec": {
   "display_name": "Python 3",
   "language": "python",
   "name": "python3"
  },
  "language_info": {
   "codemirror_mode": {
    "name": "ipython",
    "version": 3
   },
   "file_extension": ".py",
   "mimetype": "text/x-python",
   "name": "python",
   "nbconvert_exporter": "python",
   "pygments_lexer": "ipython3",
   "version": "3.7.2"
  }
 },
 "nbformat": 4,
 "nbformat_minor": 2
}
